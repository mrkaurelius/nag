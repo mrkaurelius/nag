{
 "cells": [
  {
   "cell_type": "markdown",
   "id": "7db4d399",
   "metadata": {},
   "source": [
    "# v3\n",
    "\n",
    "sequental, greyscale, sparse category"
   ]
  },
  {
   "cell_type": "code",
   "execution_count": 1,
   "id": "63d0404c",
   "metadata": {},
   "outputs": [
    {
     "name": "stderr",
     "output_type": "stream",
     "text": [
      "Using TensorFlow backend.\n"
     ]
    }
   ],
   "source": [
    "import warnings\n",
    "warnings.filterwarnings('ignore')\n",
    "\n",
    "import tensorflow as tf\n",
    "import matplotlib.pyplot as plt\n",
    "import numpy as np\n",
    "\n",
    "\n",
    "from tensorflow.keras import datasets, layers, models\n",
    "from matplotlib import pyplot\n",
    "from keras.datasets import cifar10\n",
    "from keras.utils import to_categorical"
   ]
  },
  {
   "cell_type": "code",
   "execution_count": 2,
   "id": "4003739d",
   "metadata": {},
   "outputs": [
    {
     "name": "stdout",
     "output_type": "stream",
     "text": [
      "(50000, 32, 32, 3)\n",
      "(50000, 1)\n",
      "(10000, 32, 32, 3)\n",
      "(10000, 1)\n"
     ]
    }
   ],
   "source": [
    "(trainX, trainY), (testX, testY) = cifar10.load_data()\n",
    "\n",
    "print(trainX.shape)\n",
    "print(trainY.shape)\n",
    "print(testX.shape)\n",
    "print(testY.shape)"
   ]
  },
  {
   "cell_type": "code",
   "execution_count": 3,
   "id": "23ce20c5",
   "metadata": {},
   "outputs": [
    {
     "name": "stdout",
     "output_type": "stream",
     "text": [
      "(50000, 32, 32)\n",
      "(50000, 1)\n",
      "(10000, 32, 32)\n",
      "(10000, 1)\n"
     ]
    }
   ],
   "source": [
    "# resim verisini tek kanala dusur ve normalize et\n",
    "\n",
    "rgb_weights = [0.2989, 0.5870, 0.1140]\n",
    "\n",
    "trainX = np.dot(trainX[...,:3], rgb_weights)\n",
    "testX = np.dot(testX[...,:3], rgb_weights)\n",
    "\n",
    "trainX = trainX / 255.0\n",
    "testX = testX / 255.0\n",
    "\n",
    "print(trainX.shape)\n",
    "print(trainY.shape)\n",
    "print(testX.shape)\n",
    "print(testY.shape)"
   ]
  },
  {
   "cell_type": "code",
   "execution_count": 4,
   "id": "cd3e8cb5",
   "metadata": {},
   "outputs": [
    {
     "name": "stdout",
     "output_type": "stream",
     "text": [
      "WARNING:tensorflow:From /home/mrk/devel/nag/venv/lib/python3.7/site-packages/tensorflow/python/ops/init_ops.py:1251: calling VarianceScaling.__init__ (from tensorflow.python.ops.init_ops) with dtype is deprecated and will be removed in a future version.\n",
      "Instructions for updating:\n",
      "Call initializer instance with the dtype argument instead of passing it to the constructor\n",
      "Model: \"sequential\"\n",
      "_________________________________________________________________\n",
      "Layer (type)                 Output Shape              Param #   \n",
      "=================================================================\n",
      "flatten (Flatten)            (None, 1024)              0         \n",
      "_________________________________________________________________\n",
      "dense (Dense)                (None, 512)               524800    \n",
      "_________________________________________________________________\n",
      "dense_1 (Dense)              (None, 64)                32832     \n",
      "_________________________________________________________________\n",
      "dense_2 (Dense)              (None, 10)                650       \n",
      "=================================================================\n",
      "Total params: 558,282\n",
      "Trainable params: 558,282\n",
      "Non-trainable params: 0\n",
      "_________________________________________________________________\n"
     ]
    }
   ],
   "source": [
    "model = models.Sequential()\n",
    "# model.add(tf.keras.Input(shape=(16,)))\n",
    "model.add(tf.keras.Input(shape=(32, 32)))\n",
    "model.add(layers.Flatten())\n",
    "model.add(tf.keras.layers.Dense(512, activation='relu'))\n",
    "model.add(tf.keras.layers.Dense(64, activation='relu'))\n",
    "model.add(layers.Dense(10))\n",
    "\n",
    "model.summary()"
   ]
  },
  {
   "cell_type": "markdown",
   "id": "26233952",
   "metadata": {},
   "source": [
    "### optimizer\n",
    "optimizer nedir\n",
    "biz hangi optimizier i neden kullandik\n",
    "\n",
    "### loss\n",
    "\n",
    "The purpose of loss functions is to compute the quantity that a model should seek to minimize during training.\n",
    "\n",
    "\n"
   ]
  },
  {
   "cell_type": "code",
   "execution_count": 5,
   "id": "ff86840b",
   "metadata": {},
   "outputs": [],
   "source": [
    "model.compile(optimizer='adam',\n",
    "              loss=tf.keras.losses.SparseCategoricalCrossentropy(from_logits=True),\n",
    "              metrics=['accuracy'])"
   ]
  },
  {
   "cell_type": "code",
   "execution_count": 6,
   "id": "89fd3ea0",
   "metadata": {},
   "outputs": [
    {
     "name": "stdout",
     "output_type": "stream",
     "text": [
      "Train on 50000 samples, validate on 10000 samples\n",
      "Epoch 1/20\n",
      "50000/50000 [==============================] - 6s 124us/sample - loss: 2.0819 - acc: 0.2360 - val_loss: 1.9479 - val_acc: 0.3016\n",
      "Epoch 2/20\n",
      "50000/50000 [==============================] - 6s 122us/sample - loss: 1.9096 - acc: 0.3107 - val_loss: 1.8837 - val_acc: 0.3182\n",
      "Epoch 3/20\n",
      "50000/50000 [==============================] - 6s 124us/sample - loss: 1.8353 - acc: 0.3440 - val_loss: 1.8415 - val_acc: 0.3338\n",
      "Epoch 4/20\n",
      "50000/50000 [==============================] - 6s 124us/sample - loss: 1.7929 - acc: 0.3622 - val_loss: 1.7711 - val_acc: 0.3690\n",
      "Epoch 5/20\n",
      "50000/50000 [==============================] - 6s 120us/sample - loss: 1.7654 - acc: 0.3716 - val_loss: 1.7515 - val_acc: 0.3820\n",
      "Epoch 6/20\n",
      "50000/50000 [==============================] - 6s 120us/sample - loss: 1.7356 - acc: 0.3836 - val_loss: 1.7620 - val_acc: 0.3760\n",
      "Epoch 7/20\n",
      "50000/50000 [==============================] - 6s 120us/sample - loss: 1.7146 - acc: 0.3916 - val_loss: 1.7398 - val_acc: 0.3800\n",
      "Epoch 8/20\n",
      "50000/50000 [==============================] - 6s 125us/sample - loss: 1.6915 - acc: 0.3990 - val_loss: 1.7384 - val_acc: 0.3807\n",
      "Epoch 9/20\n",
      "50000/50000 [==============================] - 7s 135us/sample - loss: 1.6710 - acc: 0.4069 - val_loss: 1.7005 - val_acc: 0.3999\n",
      "Epoch 10/20\n",
      "50000/50000 [==============================] - 5s 107us/sample - loss: 1.6553 - acc: 0.4112 - val_loss: 1.7126 - val_acc: 0.3905\n",
      "Epoch 11/20\n",
      "50000/50000 [==============================] - 4s 79us/sample - loss: 1.6352 - acc: 0.4199 - val_loss: 1.6809 - val_acc: 0.3958\n",
      "Epoch 12/20\n",
      "50000/50000 [==============================] - 4s 80us/sample - loss: 1.6196 - acc: 0.4230 - val_loss: 1.7186 - val_acc: 0.3909\n",
      "Epoch 13/20\n",
      "50000/50000 [==============================] - 4s 78us/sample - loss: 1.6064 - acc: 0.4291 - val_loss: 1.6815 - val_acc: 0.4046\n",
      "Epoch 14/20\n",
      "50000/50000 [==============================] - 4s 78us/sample - loss: 1.5931 - acc: 0.4329 - val_loss: 1.6895 - val_acc: 0.4035\n",
      "Epoch 15/20\n",
      "50000/50000 [==============================] - 4s 77us/sample - loss: 1.5793 - acc: 0.4404 - val_loss: 1.6922 - val_acc: 0.3999\n",
      "Epoch 16/20\n",
      "50000/50000 [==============================] - 4s 82us/sample - loss: 1.5700 - acc: 0.4422 - val_loss: 1.7160 - val_acc: 0.3886\n",
      "Epoch 17/20\n",
      "50000/50000 [==============================] - 4s 83us/sample - loss: 1.5565 - acc: 0.4464 - val_loss: 1.6746 - val_acc: 0.4086\n",
      "Epoch 18/20\n",
      "50000/50000 [==============================] - 4s 82us/sample - loss: 1.5458 - acc: 0.4507 - val_loss: 1.6683 - val_acc: 0.4125\n",
      "Epoch 19/20\n",
      "50000/50000 [==============================] - 4s 77us/sample - loss: 1.5368 - acc: 0.4541 - val_loss: 1.6714 - val_acc: 0.4099\n",
      "Epoch 20/20\n",
      "50000/50000 [==============================] - 4s 73us/sample - loss: 1.5257 - acc: 0.4571 - val_loss: 1.6704 - val_acc: 0.4153\n"
     ]
    }
   ],
   "source": [
    "history = model.fit(trainX, trainY, epochs=20, \n",
    "                    validation_data=(testX, testY), verbose=1)"
   ]
  },
  {
   "cell_type": "code",
   "execution_count": 7,
   "id": "6ce504e8",
   "metadata": {},
   "outputs": [
    {
     "name": "stdout",
     "output_type": "stream",
     "text": [
      "10000/10000 - 0s - loss: 1.6704 - acc: 0.4153\n"
     ]
    }
   ],
   "source": [
    "test_loss, test_acc = model.evaluate(testX,  testY, verbose=2)"
   ]
  },
  {
   "cell_type": "code",
   "execution_count": 8,
   "id": "8784b352",
   "metadata": {},
   "outputs": [
    {
     "name": "stdout",
     "output_type": "stream",
     "text": [
      "acc: 0.41530001163482666\n"
     ]
    }
   ],
   "source": []
  },
  {
   "cell_type": "code",
   "execution_count": 13,
   "id": "80cb13ef",
   "metadata": {
    "scrolled": true
   },
   "outputs": [
    {
     "data": {
      "image/png": "[encoded data removed]",
      "text/plain": [
       "<Figure size 432x288 with 1 Axes>"
      ]
     },
     "metadata": {
      "needs_background": "light"
     },
     "output_type": "display_data"
    },
    {
     "name": "stdout",
     "output_type": "stream",
     "text": [
      "acc: 0.41530001163482666\n"
     ]
    }
   ],
   "source": [
    "plt.plot(history.history['acc'])\n",
    "plt.plot(history.history['val_acc'])\n",
    "# plt.savefig('benchmarks/epoch_.png', dpi=300, bbox_inches='tight')\n",
    "\n",
    "plt.title('model accuracy')\n",
    "plt.ylabel('accuracy')\n",
    "plt.xlabel('epoch')\n",
    "plt.legend(['train', 'test'], loc='upper left')\n",
    "plt.show()\n",
    "\n",
    "print(\"acc: {}\".format(test_acc))"
   ]
  },
  {
   "cell_type": "markdown",
   "id": "86ff51d8",
   "metadata": {},
   "source": [
    "# Çıkarılan Sonuçlar\n",
    "\n",
    "Model aynı kalmak şartıya epoch sayısı arttırılsada bir esikten sonra modelin basarımı artmıyor."
   ]
  }
 ],
 "metadata": {
  "kernelspec": {
   "display_name": "Python 3",
   "language": "python",
   "name": "python3"
  },
  "language_info": {
   "codemirror_mode": {
    "name": "ipython",
    "version": 3
   },
   "file_extension": ".py",
   "mimetype": "text/x-python",
   "name": "python",
   "nbconvert_exporter": "python",
   "pygments_lexer": "ipython3",
   "version": "3.7.3"
  }
 },
 "nbformat": 4,
 "nbformat_minor": 5
}
