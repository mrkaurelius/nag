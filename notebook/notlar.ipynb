{
 "cells": [
  {
   "cell_type": "markdown",
   "id": "453418d5",
   "metadata": {},
   "source": [
    "# model\n",
    "\n",
    "neden boyle bir model olusturduk hangi layerlari neden kullandik acikla\n",
    "\n",
    "# optimizer\n",
    "\n",
    "\n",
    "## learning rate\n",
    "\n",
    "\n",
    "optimizer nedir, olmadan olurmu biz hangi optimizieri neden kullandik\n",
    "\n",
    "# loss\n",
    "\n",
    "loss nedir, neden kullanilir biz hangi loss func. neden kullandik\n",
    "\n",
    "The purpose of loss functions is to compute the quantity that a model should seek to minimize during training.\n",
    "\n",
    "## cross entrophy loss\n",
    "bkz information theory\n",
    "\n",
    "\n",
    "## misc\n",
    "\n",
    "### batch size\n",
    "\n",
    "### tensors\n",
    "\n",
    "So in machine learning / data processing a tensor appears to be simply defined as a multidimensional numerical array. An example of such a 3D tensor would be 1000 video frames of 640×480 size. A usual n×p data matrix is an example of a 2D tensor according to this definition.\n",
    "\n",
    "https://stats.stackexchange.com/questions/144860/how-are-tensors-used-in-neural-networks  \n",
    "https://stats.stackexchange.com/questions/198061/why-the-sudden-fascination-with-tensors  \n",
    "\n",
    "## kaynaklar\n",
    "\n",
    "https://keras.io/api/losses/  \n",
    "https://keras.io/api/losses/probabilistic_losses/  \n",
    "https://keras.io/api/optimizers/  \n",
    "https://keras.io/api/optimizers/adam/  \n",
    "https://keras.io/api/models/model/  "
   ]
  }
 ],
 "metadata": {
  "kernelspec": {
   "display_name": "Python 3",
   "language": "python",
   "name": "python3"
  },
  "language_info": {
   "codemirror_mode": {
    "name": "ipython",
    "version": 3
   },
   "file_extension": ".py",
   "mimetype": "text/x-python",
   "name": "python",
   "nbconvert_exporter": "python",
   "pygments_lexer": "ipython3",
   "version": "3.7.3"
  }
 },
 "nbformat": 4,
 "nbformat_minor": 5
}
