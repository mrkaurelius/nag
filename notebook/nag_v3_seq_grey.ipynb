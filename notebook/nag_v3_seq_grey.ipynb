{
 "cells": [
  {
   "cell_type": "code",
   "execution_count": 1,
   "id": "63d0404c",
   "metadata": {},
   "outputs": [
    {
     "name": "stderr",
     "output_type": "stream",
     "text": [
      "/home/mrk/devel/nag/venv/lib/python3.7/site-packages/tensorflow/python/framework/dtypes.py:516: FutureWarning: Passing (type, 1) or '1type' as a synonym of type is deprecated; in a future version of numpy, it will be understood as (type, (1,)) / '(1,)type'.\n",
      "  _np_qint8 = np.dtype([(\"qint8\", np.int8, 1)])\n",
      "/home/mrk/devel/nag/venv/lib/python3.7/site-packages/tensorflow/python/framework/dtypes.py:517: FutureWarning: Passing (type, 1) or '1type' as a synonym of type is deprecated; in a future version of numpy, it will be understood as (type, (1,)) / '(1,)type'.\n",
      "  _np_quint8 = np.dtype([(\"quint8\", np.uint8, 1)])\n",
      "/home/mrk/devel/nag/venv/lib/python3.7/site-packages/tensorflow/python/framework/dtypes.py:518: FutureWarning: Passing (type, 1) or '1type' as a synonym of type is deprecated; in a future version of numpy, it will be understood as (type, (1,)) / '(1,)type'.\n",
      "  _np_qint16 = np.dtype([(\"qint16\", np.int16, 1)])\n",
      "/home/mrk/devel/nag/venv/lib/python3.7/site-packages/tensorflow/python/framework/dtypes.py:519: FutureWarning: Passing (type, 1) or '1type' as a synonym of type is deprecated; in a future version of numpy, it will be understood as (type, (1,)) / '(1,)type'.\n",
      "  _np_quint16 = np.dtype([(\"quint16\", np.uint16, 1)])\n",
      "/home/mrk/devel/nag/venv/lib/python3.7/site-packages/tensorflow/python/framework/dtypes.py:520: FutureWarning: Passing (type, 1) or '1type' as a synonym of type is deprecated; in a future version of numpy, it will be understood as (type, (1,)) / '(1,)type'.\n",
      "  _np_qint32 = np.dtype([(\"qint32\", np.int32, 1)])\n",
      "/home/mrk/devel/nag/venv/lib/python3.7/site-packages/tensorflow/python/framework/dtypes.py:525: FutureWarning: Passing (type, 1) or '1type' as a synonym of type is deprecated; in a future version of numpy, it will be understood as (type, (1,)) / '(1,)type'.\n",
      "  np_resource = np.dtype([(\"resource\", np.ubyte, 1)])\n",
      "/home/mrk/devel/nag/venv/lib/python3.7/site-packages/tensorboard/compat/tensorflow_stub/dtypes.py:541: FutureWarning: Passing (type, 1) or '1type' as a synonym of type is deprecated; in a future version of numpy, it will be understood as (type, (1,)) / '(1,)type'.\n",
      "  _np_qint8 = np.dtype([(\"qint8\", np.int8, 1)])\n",
      "/home/mrk/devel/nag/venv/lib/python3.7/site-packages/tensorboard/compat/tensorflow_stub/dtypes.py:542: FutureWarning: Passing (type, 1) or '1type' as a synonym of type is deprecated; in a future version of numpy, it will be understood as (type, (1,)) / '(1,)type'.\n",
      "  _np_quint8 = np.dtype([(\"quint8\", np.uint8, 1)])\n",
      "/home/mrk/devel/nag/venv/lib/python3.7/site-packages/tensorboard/compat/tensorflow_stub/dtypes.py:543: FutureWarning: Passing (type, 1) or '1type' as a synonym of type is deprecated; in a future version of numpy, it will be understood as (type, (1,)) / '(1,)type'.\n",
      "  _np_qint16 = np.dtype([(\"qint16\", np.int16, 1)])\n",
      "/home/mrk/devel/nag/venv/lib/python3.7/site-packages/tensorboard/compat/tensorflow_stub/dtypes.py:544: FutureWarning: Passing (type, 1) or '1type' as a synonym of type is deprecated; in a future version of numpy, it will be understood as (type, (1,)) / '(1,)type'.\n",
      "  _np_quint16 = np.dtype([(\"quint16\", np.uint16, 1)])\n",
      "/home/mrk/devel/nag/venv/lib/python3.7/site-packages/tensorboard/compat/tensorflow_stub/dtypes.py:545: FutureWarning: Passing (type, 1) or '1type' as a synonym of type is deprecated; in a future version of numpy, it will be understood as (type, (1,)) / '(1,)type'.\n",
      "  _np_qint32 = np.dtype([(\"qint32\", np.int32, 1)])\n",
      "/home/mrk/devel/nag/venv/lib/python3.7/site-packages/tensorboard/compat/tensorflow_stub/dtypes.py:550: FutureWarning: Passing (type, 1) or '1type' as a synonym of type is deprecated; in a future version of numpy, it will be understood as (type, (1,)) / '(1,)type'.\n",
      "  np_resource = np.dtype([(\"resource\", np.ubyte, 1)])\n",
      "Using TensorFlow backend.\n"
     ]
    }
   ],
   "source": [
    "import tensorflow as tf\n",
    "import matplotlib.pyplot as plt\n",
    "import numpy as np\n",
    "import warnings\n",
    "\n",
    "warnings.filterwarnings('ignore')\n",
    "\n",
    "from tensorflow.keras import datasets, layers, models\n",
    "from matplotlib import pyplot\n",
    "from keras.datasets import cifar10\n",
    "from keras.utils import to_categorical"
   ]
  },
  {
   "cell_type": "code",
   "execution_count": 2,
   "id": "4003739d",
   "metadata": {},
   "outputs": [
    {
     "name": "stdout",
     "output_type": "stream",
     "text": [
      "(50000, 32, 32, 3)\n",
      "(50000, 1)\n",
      "(10000, 32, 32, 3)\n",
      "(10000, 1)\n"
     ]
    }
   ],
   "source": [
    "(trainX, trainY), (testX, testY) = cifar10.load_data()\n",
    "\n",
    "print(trainX.shape)\n",
    "print(trainY.shape)\n",
    "print(testX.shape)\n",
    "print(testY.shape)"
   ]
  },
  {
   "cell_type": "code",
   "execution_count": 3,
   "id": "23ce20c5",
   "metadata": {},
   "outputs": [
    {
     "name": "stdout",
     "output_type": "stream",
     "text": [
      "(50000, 32, 32)\n",
      "(50000, 1)\n",
      "(10000, 32, 32)\n",
      "(10000, 1)\n"
     ]
    }
   ],
   "source": [
    "# resim verisini tek kanala dusur ve normalize et\n",
    "\n",
    "rgb_weights = [0.2989, 0.5870, 0.1140]\n",
    "\n",
    "trainX = np.dot(trainX[...,:3], rgb_weights)\n",
    "testX = np.dot(testX[...,:3], rgb_weights)\n",
    "\n",
    "trainX = trainX / 255.0\n",
    "testX = testX / 255.0\n",
    "\n",
    "print(trainX.shape)\n",
    "print(trainY.shape)\n",
    "print(testX.shape)\n",
    "print(testY.shape)"
   ]
  },
  {
   "cell_type": "code",
   "execution_count": 4,
   "id": "cd3e8cb5",
   "metadata": {},
   "outputs": [
    {
     "name": "stdout",
     "output_type": "stream",
     "text": [
      "WARNING:tensorflow:From /home/mrk/devel/nag/venv/lib/python3.7/site-packages/tensorflow/python/ops/init_ops.py:1251: calling VarianceScaling.__init__ (from tensorflow.python.ops.init_ops) with dtype is deprecated and will be removed in a future version.\n",
      "Instructions for updating:\n",
      "Call initializer instance with the dtype argument instead of passing it to the constructor\n",
      "Model: \"sequential\"\n",
      "_________________________________________________________________\n",
      "Layer (type)                 Output Shape              Param #   \n",
      "=================================================================\n",
      "flatten (Flatten)            (None, 1024)              0         \n",
      "_________________________________________________________________\n",
      "dense (Dense)                (None, 256)               262400    \n",
      "_________________________________________________________________\n",
      "dense_1 (Dense)              (None, 64)                16448     \n",
      "_________________________________________________________________\n",
      "dense_2 (Dense)              (None, 10)                650       \n",
      "=================================================================\n",
      "Total params: 279,498\n",
      "Trainable params: 279,498\n",
      "Non-trainable params: 0\n",
      "_________________________________________________________________\n"
     ]
    }
   ],
   "source": [
    "model = models.Sequential()\n",
    "# model.add(tf.keras.Input(shape=(16,)))\n",
    "model.add(tf.keras.Input(shape=(32, 32)))\n",
    "model.add(layers.Flatten())\n",
    "model.add(tf.keras.layers.Dense(256, activation='relu'))\n",
    "model.add(tf.keras.layers.Dense(64, activation='relu'))\n",
    "model.add(layers.Dense(10))\n",
    "\n",
    "model.summary()"
   ]
  },
  {
   "cell_type": "code",
   "execution_count": 5,
   "id": "ff86840b",
   "metadata": {},
   "outputs": [],
   "source": [
    "model.compile(optimizer='adam',\n",
    "              loss=tf.keras.losses.SparseCategoricalCrossentropy(from_logits=True),\n",
    "              metrics=['accuracy'])"
   ]
  },
  {
   "cell_type": "code",
   "execution_count": 9,
   "id": "89fd3ea0",
   "metadata": {},
   "outputs": [
    {
     "name": "stdout",
     "output_type": "stream",
     "text": [
      "Train on 50000 samples, validate on 10000 samples\n",
      "Epoch 1/20\n",
      "50000/50000 [==============================] - 3s 56us/sample - loss: 1.6548 - acc: 0.4102 - val_loss: 1.7053 - val_acc: 0.3919\n",
      "Epoch 2/20\n",
      "50000/50000 [==============================] - 3s 56us/sample - loss: 1.6388 - acc: 0.4164 - val_loss: 1.7068 - val_acc: 0.3942\n",
      "Epoch 3/20\n",
      "50000/50000 [==============================] - 3s 57us/sample - loss: 1.6282 - acc: 0.4176 - val_loss: 1.7033 - val_acc: 0.3900\n",
      "Epoch 4/20\n",
      "50000/50000 [==============================] - 3s 54us/sample - loss: 1.6151 - acc: 0.4252 - val_loss: 1.6993 - val_acc: 0.3977\n",
      "Epoch 5/20\n",
      "50000/50000 [==============================] - 3s 61us/sample - loss: 1.6079 - acc: 0.4282 - val_loss: 1.6812 - val_acc: 0.4011\n",
      "Epoch 6/20\n",
      "50000/50000 [==============================] - 3s 56us/sample - loss: 1.5952 - acc: 0.4327 - val_loss: 1.6708 - val_acc: 0.4110\n",
      "Epoch 7/20\n",
      "50000/50000 [==============================] - 3s 56us/sample - loss: 1.5829 - acc: 0.4369 - val_loss: 1.6914 - val_acc: 0.4032\n",
      "Epoch 8/20\n",
      "50000/50000 [==============================] - 3s 55us/sample - loss: 1.5748 - acc: 0.4404 - val_loss: 1.6855 - val_acc: 0.4011\n",
      "Epoch 9/20\n",
      "50000/50000 [==============================] - 3s 56us/sample - loss: 1.5677 - acc: 0.4418 - val_loss: 1.7223 - val_acc: 0.3898\n",
      "Epoch 10/20\n",
      "50000/50000 [==============================] - 3s 59us/sample - loss: 1.5598 - acc: 0.4440 - val_loss: 1.6969 - val_acc: 0.3945\n",
      "Epoch 11/20\n",
      "50000/50000 [==============================] - 3s 56us/sample - loss: 1.5497 - acc: 0.4476 - val_loss: 1.7210 - val_acc: 0.3960\n",
      "Epoch 12/20\n",
      "50000/50000 [==============================] - 3s 56us/sample - loss: 1.5466 - acc: 0.4509 - val_loss: 1.6733 - val_acc: 0.4077\n",
      "Epoch 13/20\n",
      "50000/50000 [==============================] - 3s 55us/sample - loss: 1.5377 - acc: 0.4542 - val_loss: 1.6807 - val_acc: 0.4036\n",
      "Epoch 14/20\n",
      "50000/50000 [==============================] - 3s 56us/sample - loss: 1.5319 - acc: 0.4560 - val_loss: 1.6633 - val_acc: 0.4125\n",
      "Epoch 15/20\n",
      "50000/50000 [==============================] - 3s 55us/sample - loss: 1.5269 - acc: 0.4548 - val_loss: 1.6966 - val_acc: 0.3992\n",
      "Epoch 16/20\n",
      "50000/50000 [==============================] - 3s 55us/sample - loss: 1.5185 - acc: 0.4579 - val_loss: 1.7025 - val_acc: 0.3990\n",
      "Epoch 17/20\n",
      "50000/50000 [==============================] - 3s 56us/sample - loss: 1.5132 - acc: 0.4598 - val_loss: 1.6814 - val_acc: 0.4056\n",
      "Epoch 18/20\n",
      "50000/50000 [==============================] - 3s 56us/sample - loss: 1.5102 - acc: 0.4634 - val_loss: 1.6722 - val_acc: 0.4124\n",
      "Epoch 19/20\n",
      "50000/50000 [==============================] - 3s 54us/sample - loss: 1.5051 - acc: 0.4645 - val_loss: 1.6784 - val_acc: 0.4133\n",
      "Epoch 20/20\n",
      "50000/50000 [==============================] - 3s 55us/sample - loss: 1.5023 - acc: 0.4665 - val_loss: 1.6964 - val_acc: 0.4050\n"
     ]
    }
   ],
   "source": [
    "history = model.fit(trainX, trainY, epochs=20, \n",
    "                    validation_data=(testX, testY), verbose=1)"
   ]
  },
  {
   "cell_type": "code",
   "execution_count": 10,
   "id": "6ce504e8",
   "metadata": {},
   "outputs": [
    {
     "name": "stdout",
     "output_type": "stream",
     "text": [
      "10000/10000 - 0s - loss: 1.6964 - acc: 0.4050\n"
     ]
    }
   ],
   "source": [
    "test_loss, test_acc = model.evaluate(testX,  testY, verbose=2)"
   ]
  },
  {
   "cell_type": "code",
   "execution_count": 11,
   "id": "8784b352",
   "metadata": {},
   "outputs": [
    {
     "name": "stdout",
     "output_type": "stream",
     "text": [
      "acc: 0.4050000011920929\n"
     ]
    }
   ],
   "source": [
    "print(\"acc: {}\".format(test_acc))"
   ]
  }
 ],
 "metadata": {
  "kernelspec": {
   "display_name": "Python 3",
   "language": "python",
   "name": "python3"
  },
  "language_info": {
   "codemirror_mode": {
    "name": "ipython",
    "version": 3
   },
   "file_extension": ".py",
   "mimetype": "text/x-python",
   "name": "python",
   "nbconvert_exporter": "python",
   "pygments_lexer": "ipython3",
   "version": "3.7.3"
  }
 },
 "nbformat": 4,
 "nbformat_minor": 5
}
