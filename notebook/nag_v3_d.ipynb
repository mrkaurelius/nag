{
 "cells": [
  {
   "cell_type": "markdown",
   "id": "97ea5b82",
   "metadata": {},
   "source": [
    "# nag v3  deneme yanilma"
   ]
  },
  {
   "cell_type": "code",
   "execution_count": 1,
   "id": "63d0404c",
   "metadata": {},
   "outputs": [
    {
     "name": "stderr",
     "output_type": "stream",
     "text": [
      "Using TensorFlow backend.\n"
     ]
    }
   ],
   "source": [
    "import warnings\n",
    "warnings.filterwarnings('ignore')\n",
    "\n",
    "import tensorflow as tf\n",
    "import matplotlib.pyplot as plt\n",
    "import numpy as np\n",
    "\n",
    "\n",
    "from tensorflow.keras import datasets, layers, models\n",
    "from matplotlib import pyplot\n",
    "from keras.datasets import cifar10\n",
    "from keras.utils import to_categorical"
   ]
  },
  {
   "cell_type": "code",
   "execution_count": 2,
   "id": "4003739d",
   "metadata": {},
   "outputs": [
    {
     "name": "stdout",
     "output_type": "stream",
     "text": [
      "(50000, 32, 32, 3)\n",
      "(50000, 1)\n",
      "(10000, 32, 32, 3)\n",
      "(10000, 1)\n"
     ]
    }
   ],
   "source": [
    "(trainX, trainY), (testX, testY) = cifar10.load_data()\n",
    "\n",
    "print(trainX.shape)\n",
    "print(trainY.shape)\n",
    "print(testX.shape)\n",
    "print(testY.shape)"
   ]
  },
  {
   "cell_type": "code",
   "execution_count": 3,
   "id": "23ce20c5",
   "metadata": {},
   "outputs": [
    {
     "name": "stdout",
     "output_type": "stream",
     "text": [
      "(50000, 32, 32)\n",
      "(50000, 1)\n",
      "(10000, 32, 32)\n",
      "(10000, 1)\n"
     ]
    }
   ],
   "source": [
    "# resim verisini tek kanala dusur ve normalize et\n",
    "\n",
    "rgb_weights = [0.2989, 0.5870, 0.1140]\n",
    "\n",
    "trainX = np.dot(trainX[...,:3], rgb_weights)\n",
    "testX = np.dot(testX[...,:3], rgb_weights)\n",
    "\n",
    "trainX = trainX / 255.0\n",
    "testX = testX / 255.0\n",
    "\n",
    "print(trainX.shape)\n",
    "print(trainY.shape)\n",
    "print(testX.shape)\n",
    "print(testY.shape)"
   ]
  },
  {
   "cell_type": "code",
   "execution_count": 4,
   "id": "cd3e8cb5",
   "metadata": {},
   "outputs": [
    {
     "name": "stdout",
     "output_type": "stream",
     "text": [
      "WARNING:tensorflow:From /home/mrk/devel/nag/venv/lib/python3.7/site-packages/tensorflow/python/ops/init_ops.py:1251: calling VarianceScaling.__init__ (from tensorflow.python.ops.init_ops) with dtype is deprecated and will be removed in a future version.\n",
      "Instructions for updating:\n",
      "Call initializer instance with the dtype argument instead of passing it to the constructor\n",
      "Model: \"sequential\"\n",
      "_________________________________________________________________\n",
      "Layer (type)                 Output Shape              Param #   \n",
      "=================================================================\n",
      "flatten (Flatten)            (None, 1024)              0         \n",
      "_________________________________________________________________\n",
      "dense (Dense)                (None, 512)               524800    \n",
      "_________________________________________________________________\n",
      "dense_1 (Dense)              (None, 64)                32832     \n",
      "_________________________________________________________________\n",
      "dense_2 (Dense)              (None, 10)                650       \n",
      "=================================================================\n",
      "Total params: 558,282\n",
      "Trainable params: 558,282\n",
      "Non-trainable params: 0\n",
      "_________________________________________________________________\n"
     ]
    }
   ],
   "source": [
    "model = models.Sequential()\n",
    "# model.add(tf.keras.Input(shape=(16,)))\n",
    "model.add(tf.keras.Input(shape=(32, 32)))\n",
    "model.add(layers.Flatten())\n",
    "model.add(tf.keras.layers.Dense(512, activation='relu'))\n",
    "model.add(tf.keras.layers.Dense(64, activation='relu'))\n",
    "model.add(layers.Dense(10))\n",
    "\n",
    "model.summary()"
   ]
  },
  {
   "cell_type": "markdown",
   "id": "5ff38a4c",
   "metadata": {},
   "source": []
  },
  {
   "cell_type": "code",
   "execution_count": 13,
   "id": "ff86840b",
   "metadata": {},
   "outputs": [],
   "source": [
    "model.compile(optimizer='adam',\n",
    "              loss=tf.keras.losses.SparseCategoricalCrossentropy(from_logits=True),\n",
    "              metrics=['accuracy'])"
   ]
  },
  {
   "cell_type": "code",
   "execution_count": 7,
   "id": "89fd3ea0",
   "metadata": {},
   "outputs": [
    {
     "name": "stdout",
     "output_type": "stream",
     "text": [
      "Train on 50000 samples, validate on 10000 samples\n",
      "Epoch 1/15\n",
      "50000/50000 [==============================] - 4s 78us/sample - loss: 2.2001 - acc: 0.1675 - val_loss: 2.0756 - val_acc: 0.2237\n",
      "Epoch 2/15\n",
      "50000/50000 [==============================] - 4s 77us/sample - loss: 2.0090 - acc: 0.2610 - val_loss: 1.9557 - val_acc: 0.2817\n",
      "Epoch 3/15\n",
      "50000/50000 [==============================] - 4s 77us/sample - loss: 1.9270 - acc: 0.3035 - val_loss: 1.9117 - val_acc: 0.3153\n",
      "Epoch 4/15\n",
      "50000/50000 [==============================] - 4s 77us/sample - loss: 1.8715 - acc: 0.3266 - val_loss: 1.8477 - val_acc: 0.3392\n",
      "Epoch 5/15\n",
      "50000/50000 [==============================] - 4s 75us/sample - loss: 1.8306 - acc: 0.3438 - val_loss: 1.8448 - val_acc: 0.3338\n",
      "Epoch 6/15\n",
      "50000/50000 [==============================] - 4s 75us/sample - loss: 1.7904 - acc: 0.3606 - val_loss: 1.8137 - val_acc: 0.3625\n",
      "Epoch 7/15\n",
      "50000/50000 [==============================] - 4s 77us/sample - loss: 1.7574 - acc: 0.3728 - val_loss: 1.7616 - val_acc: 0.3763\n",
      "Epoch 8/15\n",
      "50000/50000 [==============================] - 4s 79us/sample - loss: 1.7275 - acc: 0.3840 - val_loss: 1.7402 - val_acc: 0.3776\n",
      "Epoch 9/15\n",
      "50000/50000 [==============================] - 4s 76us/sample - loss: 1.7083 - acc: 0.3929 - val_loss: 1.7121 - val_acc: 0.3904\n",
      "Epoch 10/15\n",
      "50000/50000 [==============================] - 4s 77us/sample - loss: 1.6841 - acc: 0.4005 - val_loss: 1.7004 - val_acc: 0.3944\n",
      "Epoch 11/15\n",
      "50000/50000 [==============================] - 4s 78us/sample - loss: 1.6643 - acc: 0.4090 - val_loss: 1.7058 - val_acc: 0.3887\n",
      "Epoch 12/15\n",
      "50000/50000 [==============================] - 4s 81us/sample - loss: 1.6482 - acc: 0.4159 - val_loss: 1.6952 - val_acc: 0.4012\n",
      "Epoch 13/15\n",
      "50000/50000 [==============================] - 4s 76us/sample - loss: 1.6324 - acc: 0.4197 - val_loss: 1.6991 - val_acc: 0.4018\n",
      "Epoch 14/15\n",
      "50000/50000 [==============================] - 4s 78us/sample - loss: 1.6181 - acc: 0.4280 - val_loss: 1.6752 - val_acc: 0.4045\n",
      "Epoch 15/15\n",
      "50000/50000 [==============================] - 4s 76us/sample - loss: 1.6055 - acc: 0.4308 - val_loss: 1.6950 - val_acc: 0.3962\n"
     ]
    }
   ],
   "source": [
    "history = model.fit(trainX, trainY, epochs=15, \n",
    "                    validation_data=(testX, testY), verbose=1)"
   ]
  },
  {
   "cell_type": "code",
   "execution_count": 9,
   "id": "6ce504e8",
   "metadata": {},
   "outputs": [
    {
     "name": "stdout",
     "output_type": "stream",
     "text": [
      "10000/10000 - 0s - loss: 1.6950 - acc: 0.3962\n"
     ]
    }
   ],
   "source": [
    "test_loss, test_acc = model.evaluate(testX,  testY, verbose=2)"
   ]
  },
  {
   "cell_type": "code",
   "execution_count": 10,
   "id": "8784b352",
   "metadata": {},
   "outputs": [
    {
     "name": "stdout",
     "output_type": "stream",
     "text": [
      "acc: 0.3962000012397766\n"
     ]
    }
   ],
   "source": [
    "print(\"acc: {}\".format(test_acc))"
   ]
  },
  {
   "cell_type": "code",
   "execution_count": 12,
   "id": "5c29a83b",
   "metadata": {
    "scrolled": true
   },
   "outputs": [
    {
     "data": {
      "image/png": "[encoded data removed]",
      "text/plain": [
       "<Figure size 432x288 with 1 Axes>"
      ]
     },
     "metadata": {
      "needs_background": "light"
     },
     "output_type": "display_data"
    }
   ],
   "source": [
    "plt.plot(history.history['acc'])\n",
    "plt.plot(history.history['val_acc'])\n",
    "# plt.savefig('benchmarks/epoch_.png', dpi=300, bbox_inches='tight')\n",
    "\n",
    "plt.title('model accuracy')\n",
    "plt.ylabel('accuracy')\n",
    "plt.xlabel('epoch')\n",
    "plt.legend(['train', 'test'], loc='upper left')\n",
    "plt.show()"
   ]
  },
  {
   "cell_type": "markdown",
   "id": "9d67f71d",
   "metadata": {},
   "source": [
    "# Çıkarılan notlar\n",
    "\n",
    "Model aynı kalmak şartıya epoch sayısını spamlamnın bir yararı yok bir esikten sonra modelin basarımı artmıyor."
   ]
  }
 ],
 "metadata": {
  "kernelspec": {
   "display_name": "Python 3",
   "language": "python",
   "name": "python3"
  },
  "language_info": {
   "codemirror_mode": {
    "name": "ipython",
    "version": 3
   },
   "file_extension": ".py",
   "mimetype": "text/x-python",
   "name": "python",
   "nbconvert_exporter": "python",
   "pygments_lexer": "ipython3",
   "version": "3.7.3"
  }
 },
 "nbformat": 4,
 "nbformat_minor": 5
}
