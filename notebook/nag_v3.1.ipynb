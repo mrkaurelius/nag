{
 "cells": [
  {
   "cell_type": "markdown",
   "id": "d0c6ee61",
   "metadata": {},
   "source": [
    "# v3.1\n",
    "\n",
    "daha karmasik layerlara sahip model =\n",
    "\n",
    "sequental, greyscale, sparse category"
   ]
  },
  {
   "cell_type": "code",
   "execution_count": 1,
   "id": "63d0404c",
   "metadata": {},
   "outputs": [
    {
     "name": "stderr",
     "output_type": "stream",
     "text": [
      "Using TensorFlow backend.\n"
     ]
    }
   ],
   "source": [
    "import warnings\n",
    "warnings.filterwarnings('ignore')\n",
    "\n",
    "import tensorflow as tf\n",
    "import matplotlib.pyplot as plt\n",
    "import numpy as np\n",
    "\n",
    "\n",
    "from tensorflow.keras import datasets, layers, models\n",
    "from matplotlib import pyplot\n",
    "from keras.datasets import cifar10\n",
    "from keras.utils import to_categorical"
   ]
  },
  {
   "cell_type": "code",
   "execution_count": 2,
   "id": "4003739d",
   "metadata": {},
   "outputs": [
    {
     "name": "stdout",
     "output_type": "stream",
     "text": [
      "(50000, 32, 32, 3)\n",
      "(50000, 1)\n",
      "(10000, 32, 32, 3)\n",
      "(10000, 1)\n"
     ]
    }
   ],
   "source": [
    "(trainX, trainY), (testX, testY) = cifar10.load_data()\n",
    "\n",
    "print(trainX.shape)\n",
    "print(trainY.shape)\n",
    "print(testX.shape)\n",
    "print(testY.shape)"
   ]
  },
  {
   "cell_type": "code",
   "execution_count": 3,
   "id": "23ce20c5",
   "metadata": {},
   "outputs": [
    {
     "name": "stdout",
     "output_type": "stream",
     "text": [
      "(50000, 32, 32)\n",
      "(50000, 1)\n",
      "(10000, 32, 32)\n",
      "(10000, 1)\n"
     ]
    }
   ],
   "source": [
    "# resim verisini tek kanala dusur ve normalize et\n",
    "\n",
    "rgb_weights = [0.2989, 0.5870, 0.1140]\n",
    "\n",
    "trainX = np.dot(trainX[...,:3], rgb_weights)\n",
    "testX = np.dot(testX[...,:3], rgb_weights)\n",
    "\n",
    "trainX = trainX / 255.0\n",
    "testX = testX / 255.0\n",
    "\n",
    "print(trainX.shape)\n",
    "print(trainY.shape)\n",
    "print(testX.shape)\n",
    "print(testY.shape)"
   ]
  },
  {
   "cell_type": "code",
   "execution_count": 4,
   "id": "cd3e8cb5",
   "metadata": {},
   "outputs": [
    {
     "name": "stdout",
     "output_type": "stream",
     "text": [
      "WARNING:tensorflow:From /home/mrk/devel/nag/venv/lib/python3.7/site-packages/tensorflow/python/ops/init_ops.py:1251: calling VarianceScaling.__init__ (from tensorflow.python.ops.init_ops) with dtype is deprecated and will be removed in a future version.\n",
      "Instructions for updating:\n",
      "Call initializer instance with the dtype argument instead of passing it to the constructor\n",
      "Model: \"sequential\"\n",
      "_________________________________________________________________\n",
      "Layer (type)                 Output Shape              Param #   \n",
      "=================================================================\n",
      "flatten (Flatten)            (None, 1024)              0         \n",
      "_________________________________________________________________\n",
      "dense (Dense)                (None, 512)               524800    \n",
      "_________________________________________________________________\n",
      "dense_1 (Dense)              (None, 256)               131328    \n",
      "_________________________________________________________________\n",
      "dense_2 (Dense)              (None, 64)                16448     \n",
      "_________________________________________________________________\n",
      "dense_3 (Dense)              (None, 10)                650       \n",
      "=================================================================\n",
      "Total params: 673,226\n",
      "Trainable params: 673,226\n",
      "Non-trainable params: 0\n",
      "_________________________________________________________________\n"
     ]
    }
   ],
   "source": [
    "model = models.Sequential()\n",
    "# model.add(tf.keras.Input(shape=(16,)))\n",
    "model.add(tf.keras.Input(shape=(32, 32)))\n",
    "model.add(layers.Flatten())\n",
    "model.add(tf.keras.layers.Dense(512, activation='relu'))\n",
    "model.add(tf.keras.layers.Dense(256, activation='relu'))\n",
    "model.add(tf.keras.layers.Dense(64, activation='relu'))\n",
    "model.add(layers.Dense(10))\n",
    "\n",
    "model.summary()"
   ]
  },
  {
   "cell_type": "code",
   "execution_count": 5,
   "id": "ff86840b",
   "metadata": {},
   "outputs": [],
   "source": [
    "model.compile(optimizer='adam',\n",
    "              loss=tf.keras.losses.SparseCategoricalCrossentropy(from_logits=True),\n",
    "              metrics=['accuracy'])"
   ]
  },
  {
   "cell_type": "code",
   "execution_count": 6,
   "id": "89fd3ea0",
   "metadata": {},
   "outputs": [
    {
     "name": "stdout",
     "output_type": "stream",
     "text": [
      "Train on 50000 samples, validate on 10000 samples\n",
      "Epoch 1/30\n",
      "50000/50000 [==============================] - 5s 99us/sample - loss: 2.0348 - acc: 0.2560 - val_loss: 1.9031 - val_acc: 0.3155\n",
      "Epoch 2/30\n",
      "50000/50000 [==============================] - 5s 95us/sample - loss: 1.8816 - acc: 0.3227 - val_loss: 1.8575 - val_acc: 0.3362\n",
      "Epoch 3/30\n",
      "50000/50000 [==============================] - 5s 94us/sample - loss: 1.8143 - acc: 0.3499 - val_loss: 1.8113 - val_acc: 0.3512\n",
      "Epoch 4/30\n",
      "50000/50000 [==============================] - 5s 97us/sample - loss: 1.7760 - acc: 0.3645 - val_loss: 1.7703 - val_acc: 0.3605\n",
      "Epoch 5/30\n",
      "50000/50000 [==============================] - 5s 93us/sample - loss: 1.7431 - acc: 0.3784 - val_loss: 1.7446 - val_acc: 0.3707\n",
      "Epoch 6/30\n",
      "50000/50000 [==============================] - 5s 93us/sample - loss: 1.7170 - acc: 0.3852 - val_loss: 1.7392 - val_acc: 0.3757\n",
      "Epoch 7/30\n",
      "50000/50000 [==============================] - 5s 94us/sample - loss: 1.6922 - acc: 0.3960 - val_loss: 1.7314 - val_acc: 0.3844\n",
      "Epoch 8/30\n",
      "50000/50000 [==============================] - 5s 92us/sample - loss: 1.6681 - acc: 0.4052 - val_loss: 1.7268 - val_acc: 0.3803\n",
      "Epoch 9/30\n",
      "50000/50000 [==============================] - 5s 98us/sample - loss: 1.6499 - acc: 0.4128 - val_loss: 1.6954 - val_acc: 0.3942\n",
      "Epoch 10/30\n",
      "50000/50000 [==============================] - 5s 95us/sample - loss: 1.6287 - acc: 0.4212 - val_loss: 1.6883 - val_acc: 0.3965\n",
      "Epoch 11/30\n",
      "50000/50000 [==============================] - 5s 92us/sample - loss: 1.6126 - acc: 0.4254 - val_loss: 1.6796 - val_acc: 0.4025\n",
      "Epoch 12/30\n",
      "50000/50000 [==============================] - 5s 93us/sample - loss: 1.5942 - acc: 0.4327 - val_loss: 1.6767 - val_acc: 0.4038\n",
      "Epoch 13/30\n",
      "50000/50000 [==============================] - 5s 93us/sample - loss: 1.5745 - acc: 0.4389 - val_loss: 1.6984 - val_acc: 0.3926\n",
      "Epoch 14/30\n",
      "50000/50000 [==============================] - 5s 95us/sample - loss: 1.5592 - acc: 0.4444 - val_loss: 1.7021 - val_acc: 0.3962\n",
      "Epoch 15/30\n",
      "50000/50000 [==============================] - 5s 92us/sample - loss: 1.5431 - acc: 0.4500 - val_loss: 1.6548 - val_acc: 0.4086\n",
      "Epoch 16/30\n",
      "50000/50000 [==============================] - 5s 94us/sample - loss: 1.5258 - acc: 0.4575 - val_loss: 1.6787 - val_acc: 0.4042\n",
      "Epoch 17/30\n",
      "50000/50000 [==============================] - 5s 96us/sample - loss: 1.5094 - acc: 0.4645 - val_loss: 1.7002 - val_acc: 0.4018\n",
      "Epoch 18/30\n",
      "50000/50000 [==============================] - 5s 98us/sample - loss: 1.4940 - acc: 0.4683 - val_loss: 1.7057 - val_acc: 0.3983\n",
      "Epoch 19/30\n",
      "50000/50000 [==============================] - 5s 103us/sample - loss: 1.4778 - acc: 0.4747 - val_loss: 1.6889 - val_acc: 0.4050\n",
      "Epoch 20/30\n",
      "50000/50000 [==============================] - 5s 94us/sample - loss: 1.4648 - acc: 0.4797 - val_loss: 1.7079 - val_acc: 0.4034\n",
      "Epoch 21/30\n",
      "50000/50000 [==============================] - 5s 93us/sample - loss: 1.4526 - acc: 0.4837 - val_loss: 1.7331 - val_acc: 0.3924\n",
      "Epoch 22/30\n",
      "50000/50000 [==============================] - 5s 96us/sample - loss: 1.4390 - acc: 0.4874 - val_loss: 1.6898 - val_acc: 0.4068\n",
      "Epoch 23/30\n",
      "50000/50000 [==============================] - 5s 97us/sample - loss: 1.4264 - acc: 0.4930 - val_loss: 1.7074 - val_acc: 0.4113\n",
      "Epoch 24/30\n",
      "50000/50000 [==============================] - 5s 93us/sample - loss: 1.4167 - acc: 0.4951 - val_loss: 1.6954 - val_acc: 0.4135\n",
      "Epoch 25/30\n",
      "50000/50000 [==============================] - 5s 102us/sample - loss: 1.4015 - acc: 0.5018 - val_loss: 1.7106 - val_acc: 0.4117\n",
      "Epoch 26/30\n",
      "50000/50000 [==============================] - 5s 94us/sample - loss: 1.3895 - acc: 0.5061 - val_loss: 1.7090 - val_acc: 0.4151\n",
      "Epoch 27/30\n",
      "50000/50000 [==============================] - 5s 92us/sample - loss: 1.3832 - acc: 0.5073 - val_loss: 1.7417 - val_acc: 0.4066\n",
      "Epoch 28/30\n",
      "50000/50000 [==============================] - 5s 93us/sample - loss: 1.3700 - acc: 0.5120 - val_loss: 1.7472 - val_acc: 0.4039\n",
      "Epoch 29/30\n",
      "50000/50000 [==============================] - 5s 94us/sample - loss: 1.3586 - acc: 0.5158 - val_loss: 1.7370 - val_acc: 0.4121\n",
      "Epoch 30/30\n",
      "50000/50000 [==============================] - 5s 94us/sample - loss: 1.3500 - acc: 0.5186 - val_loss: 1.7647 - val_acc: 0.4104\n"
     ]
    }
   ],
   "source": [
    "history = model.fit(trainX, trainY, epochs=30, \n",
    "                    validation_data=(testX, testY), verbose=1)"
   ]
  },
  {
   "cell_type": "code",
   "execution_count": 7,
   "id": "6ce504e8",
   "metadata": {},
   "outputs": [
    {
     "name": "stdout",
     "output_type": "stream",
     "text": [
      "10000/10000 - 0s - loss: 1.7647 - acc: 0.4104\n"
     ]
    }
   ],
   "source": [
    "test_loss, test_acc = model.evaluate(testX,  testY, verbose=2)"
   ]
  },
  {
   "cell_type": "code",
   "execution_count": 8,
   "id": "8784b352",
   "metadata": {},
   "outputs": [
    {
     "name": "stdout",
     "output_type": "stream",
     "text": [
      "acc: 0.41040000319480896\n"
     ]
    }
   ],
   "source": [
    "print(\"acc: {}\".format(test_acc))"
   ]
  },
  {
   "cell_type": "code",
   "execution_count": 9,
   "id": "665efa93",
   "metadata": {
    "scrolled": true
   },
   "outputs": [
    {
     "data": {
      "image/png": "[encoded data removed]",
      "text/plain": [
       "<Figure size 432x288 with 1 Axes>"
      ]
     },
     "metadata": {
      "needs_background": "light"
     },
     "output_type": "display_data"
    }
   ],
   "source": [
    "plt.plot(history.history['acc'])\n",
    "plt.plot(history.history['val_acc'])\n",
    "# plt.savefig('benchmarks/epoch_.png', dpi=300, bbox_inches='tight')\n",
    "\n",
    "plt.title('model accuracy')\n",
    "plt.ylabel('accuracy')\n",
    "plt.xlabel('epoch')\n",
    "plt.legend(['train', 'test'], loc='upper left')\n",
    "plt.show()"
   ]
  },
  {
   "cell_type": "markdown",
   "id": "fb05854f",
   "metadata": {},
   "source": [
    "# Çıkarılan Sonuçlar\n",
    "\n",
    "## 15 epoch\n",
    "\n",
    "acc: 0.430400013923645\n",
    "- Model derinlesince train basarısı artsada test basarısında kayda deger degisme olmuyor.\n",
    "\n",
    "## 30 epoch\n",
    "\n",
    "acc: 0.41040000319480896\n",
    "- uzun sure egitmek test basarısını etkilemiyor. train basarısını doğrusal arttırıyor."
   ]
  },
  {
   "cell_type": "code",
   "execution_count": null,
   "id": "a322964b",
   "metadata": {},
   "outputs": [],
   "source": []
  }
 ],
 "metadata": {
  "kernelspec": {
   "display_name": "Python 3",
   "language": "python",
   "name": "python3"
  },
  "language_info": {
   "codemirror_mode": {
    "name": "ipython",
    "version": 3
   },
   "file_extension": ".py",
   "mimetype": "text/x-python",
   "name": "python",
   "nbconvert_exporter": "python",
   "pygments_lexer": "ipython3",
   "version": "3.7.3"
  }
 },
 "nbformat": 4,
 "nbformat_minor": 5
}
